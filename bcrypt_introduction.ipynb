{
 "cells": [
  {
   "cell_type": "markdown",
   "metadata": {},
   "source": [
    "# Pythonでbcrypt イントロダクション\n",
    "\n",
    "パスワード保管に適したハッシュ関数bcryptをPythonから利用する場合は、bcryptモジュール (<https://pypi.python.org/pypi/bcrypt/3.1.1>)を使います。\n",
    "\n",
    "**インストール方法**:\n",
    "- pip install bcrypt\n",
    "\n",
    "**bcryptの特徴**\n",
    "\n",
    "bcryptはBlowfish暗号ベースのハッシュ関数です。\n",
    "\n",
    "MD5やSHAファミリなどのハッシュ関数とbcryptとの決定的な違いは、前者がfast hashであるのに対して、後者はslow hashであることです。\n",
    "\n",
    "fast hashは高速であるため、大きなファイルから固定長のダイジェストを得るのには便利ですが、パスワード管理で使ってしまうとハッシュ値が漏れてしまった場合にオフライン攻撃によってクラックされやすいという問題があります。そのため、意図的に処理を遅くさせるストレッチ（ハッシュ化を繰り返す）という手法があります。\n",
    "\n",
    "一方、bcryptはもとも演算を繰り返すように設計されたslow hashであり、また、高速なハードウェア実装を難しくする設計にもなっています。\n",
    "> This system hashes passwords using a version of Bruce Schneier's Blowfish block cipher with modifications designed to raise the cost of off-line password cracking and frustrate fast hardware implementation. \n",
    "\n",
    "[引用元] http://www.mindrot.org/projects/py-bcrypt/\n",
    "\n",
    "> Basically, computational power can be parallelized cheaply and easily, but memory cannot. This is the cornerstone of bcrypt and scrypt. Obviously, they can still be broken by sheer brute force, and you could just use hardware with integrated memory units to circumvent the problem, but it's much harder and much, much more expensive to do so.\n",
    "\n",
    "[引用元] http://crypto.stackexchange.com/questions/3491/is-stretching-hash-several-times-basically-the-same-as-bcrypt\n",
    "\n",
    "（正直、理解不足で上記の説明が正しいのか、今でも有効なのかよく分かってません。）\n",
    "\n",
    "**bcryptの基本的な使い方**\n",
    " - bcrypt.gensalt(rounds=12, prefix=b'2b')  # ソルトを生成\n",
    " - bcrypt.hashpw(password, salt)  # パスワードをハッシュ化\n",
    " - bcrypt.checkpw(password, hashed_password)  # パスワードを検証\n",
    "\n",
    "**bcrypt.gensalt()**の引数について\n",
    "\n",
    "bcrypt.gensalt()は呼び出しごとに異なるソルトを生成します。また、呼び出し時に２つの引数を指定できます。  \n",
    "1. rounds：ハッシュ値の計算を遅くするためのwork-factorと呼ばれるパラメータで、4から31の値が指定できます（default=12）。2^(rounds)回演算が繰り返されます。  \n",
    "2. prefix：b'2a'かb'2b'を指定できます（default=b'2b'）。\n",
    "> 現在は\"2a\"が主流になっているようです。\n",
    "\n",
    "[引用元] https://yuskamiya.tumblr.com/post/100503173956"
   ]
  },
  {
   "cell_type": "markdown",
   "metadata": {},
   "source": [
    "実験\n",
    "---\n",
    "以下では、bcrypt.gensalt()のwork-factorの値を変えたときの計算時間を見てみます。\n",
    "\n",
    "**実行環境:**\n",
    "- Windows 10 Pro 64bit Intel Core i5-4210U @ 1.70GHz, 8.0GB RAM"
   ]
  },
  {
   "cell_type": "code",
   "execution_count": 3,
   "metadata": {
    "collapsed": false,
    "scrolled": true
   },
   "outputs": [
    {
     "name": "stdout",
     "output_type": "stream",
     "text": [
      "work: 05 => 100 loops, best of 1: 2.88 ms per loop\n",
      "work: 06 => 100 loops, best of 1: 5.54 ms per loop\n",
      "work: 07 => 100 loops, best of 1: 11 ms per loop\n",
      "work: 08 => 10 loops, best of 1: 22.4 ms per loop\n",
      "work: 09 => 10 loops, best of 1: 44.4 ms per loop\n",
      "work: 10 => 10 loops, best of 1: 94.5 ms per loop\n",
      "work: 11 => 1 loop, best of 1: 176 ms per loop\n",
      "work: 12 => 1 loop, best of 1: 432 ms per loop\n",
      "work: 13 => 1 loop, best of 1: 862 ms per loop\n",
      "work: 14 => 1 loop, best of 1: 1.42 s per loop\n",
      "work: 15 => 1 loop, best of 1: 2.95 s per loop\n",
      "work: 16 => 1 loop, best of 1: 5.59 s per loop\n",
      "work: 17 => 1 loop, best of 1: 11.4 s per loop\n"
     ]
    }
   ],
   "source": [
    "import bcrypt\n",
    "password = 'password'.encode()\n",
    "for work in range(5, 18):\n",
    "    print('work: {:02d}'.format(work), end=' => ')\n",
    "    %timeit -r1 bcrypt.hashpw(password, bcrypt.gensalt(rounds=work))"
   ]
  },
  {
   "cell_type": "markdown",
   "metadata": {},
   "source": [
    "**実験結果**\n",
    "\n",
    "当然ですが、work-factorを1増やすごとに計算時間が2倍になりました。  "
   ]
  },
  {
   "cell_type": "markdown",
   "metadata": {
    "collapsed": true
   },
   "source": [
    "まとめ\n",
    "---\n",
    "**1. Pythonからbcryptを利用する場合は、bcryptモジュールを使う**\n",
    "\n",
    "**2. 適切なwork-factorを選ぶ**\n",
    "\n",
    "work-factorに大きな値を設定することで、攻撃者のオフライン攻撃に対する時間稼ぎが可能ですが、これは通常運用時のパフォーマンスにも影響を与えます。セキュリティと利便性のトレードオフです。\n",
    "> 望ましい時間（10、200msなど）内にサーバがパスワードをチェックする反復の回数を決定し、それを使用する。\n",
    "\n",
    "[引用元] http://blog.f-secure.jp/archives/50564743.html\n",
    "\n",
    "> I don’t believe that there is a “correct” work factor; it depends on how strong you want your hashes to be and how much computational power you want to reserve for the hashing process. \n",
    "\n",
    "[引用元] https://wildlyinaccurate.com/bcrypt-choosing-a-work-factor/"
   ]
  },
  {
   "cell_type": "code",
   "execution_count": null,
   "metadata": {
    "collapsed": true
   },
   "outputs": [],
   "source": []
  }
 ],
 "metadata": {
  "kernelspec": {
   "display_name": "Python 3",
   "language": "python",
   "name": "python3"
  },
  "language_info": {
   "codemirror_mode": {
    "name": "ipython",
    "version": 3
   },
   "file_extension": ".py",
   "mimetype": "text/x-python",
   "name": "python",
   "nbconvert_exporter": "python",
   "pygments_lexer": "ipython3",
   "version": "3.4.2"
  }
 },
 "nbformat": 4,
 "nbformat_minor": 0
}
